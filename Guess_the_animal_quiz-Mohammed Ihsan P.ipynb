{
 "cells": [
  {
   "cell_type": "code",
   "execution_count": 1,
   "id": "f4cf1113",
   "metadata": {},
   "outputs": [
    {
     "name": "stdout",
     "output_type": "stream",
     "text": [
      "Welcome to Guess The Animal Quiz.\n",
      "The rules are simple.\n",
      " 1. There will be a variety of 3 questions, where each question is worth 1 point.\n",
      " 2. Each question contains 3 attempts.\n",
      " LET'S GET STARTED!\n",
      "Please press ENTER to begin Quiz.\n",
      "Which bear lives at the North Pole? Polar bear\n",
      "Correct answer\n",
      "Which is the fastest land animal? Cheetah\n",
      "Correct answer\n",
      "Which is the largest animal? giraffe\n",
      "Sorry, wrong answer. Try again.elephant\n",
      "Sorry, wrong answer. Try again.rhinoceros\n",
      "The correct answer is blue whale\n",
      "Good Job! Your score is 2.\n"
     ]
    }
   ],
   "source": [
    "\"\"\"Animal Quiz\"\"\"\n",
    "\n",
    "#check ans\n",
    "def check_ans(guess,answer):\n",
    "    global score\n",
    "    still_guessing=True\n",
    "    attempt=0\n",
    "    while still_guessing and attempt<3:\n",
    "        if guess.upper()==answer.upper():\n",
    "            print(\"Correct answer\")\n",
    "            still_guessing=False\n",
    "            score+=1\n",
    "        else:\n",
    "            if still_guessing and attempt<2:\n",
    "                guess=input(\"Sorry, wrong answer. Try again.\")\n",
    "            attempt+=1\n",
    "            \n",
    "        if still_guessing and attempt==3:\n",
    "            print(\"The correct answer is\",answer)\n",
    "            \n",
    "#set score to zero\n",
    "score=0\n",
    "\n",
    "#Introduce the game\n",
    "print('Welcome to Guess The Animal Quiz.')\n",
    "print('The rules are simple.\\n 1. There will be a variety of 3 questions, where each question is worth 1 point.\\n 2. Each question contains 3 attempts.\\n LET\\'S GET STARTED!')    \n",
    "\n",
    "start = input('Please press ENTER to begin Quiz.')\n",
    "\n",
    "#Ask question and get user's answer\n",
    "#first question\n",
    "guess1 = input('Which bear lives at the North Pole? ')\n",
    "check_ans(guess1,'polar bear')\n",
    "\n",
    "#second question\n",
    "guess2 = input('Which is the fastest land animal? ')\n",
    "check_ans(guess2, 'cheetah')\n",
    "\n",
    "#third question\n",
    "guess3 = input('Which is the largest animal? ')\n",
    "check_ans(guess3, 'blue whale')\n",
    "\n",
    "#Display score\n",
    "if score == 3:\n",
    "    print('Congratulations! You have answered all of the questions correctly! Your score is ' + str(score)+'.')\n",
    "elif score == 2:\n",
    "    print('Good Job! Your score is ' + str(score)+'.')\n",
    "else:\n",
    "    print('Try again next time. Your score is ' + str(score)+'.')"
   ]
  },
  {
   "cell_type": "markdown",
   "id": "ac19cb6d",
   "metadata": {},
   "source": [
    "# Quiz Completed"
   ]
  }
 ],
 "metadata": {
  "kernelspec": {
   "display_name": "Python 3",
   "language": "python",
   "name": "python3"
  },
  "language_info": {
   "codemirror_mode": {
    "name": "ipython",
    "version": 3
   },
   "file_extension": ".py",
   "mimetype": "text/x-python",
   "name": "python",
   "nbconvert_exporter": "python",
   "pygments_lexer": "ipython3",
   "version": "3.8.8"
  }
 },
 "nbformat": 4,
 "nbformat_minor": 5
}
